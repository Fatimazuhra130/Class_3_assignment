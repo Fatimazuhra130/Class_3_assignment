{
 "cells": [
  {
   "cell_type": "markdown",
   "id": "7a1e900b",
   "metadata": {},
   "source": [
    "#Condition"
   ]
  },
  {
   "cell_type": "code",
   "execution_count": null,
   "id": "75940b7d",
   "metadata": {},
   "outputs": [],
   "source": [
    "marks=int(input(\"Enter marks\"))"
   ]
  },
  {
   "cell_type": "code",
   "execution_count": null,
   "id": "1ad7bead",
   "metadata": {},
   "outputs": [],
   "source": [
    "marks=int(input(\"Enter marks\"))\n",
    "\n",
    "if (marks > 50):\n",
    "    if(marks > 80):\n",
    "        print(\"You aced\")\n",
    "    elif(70>marks>60):\n",
    "        print(\"B Grade\")\n",
    "    else:\n",
    "        print(\"You Passed\")\n",
    "if(marks==50):\n",
    "      print(\"You just Passed\")\n",
    "else:\n",
    "    print(\"Better luck for next time\")"
   ]
  },
  {
   "cell_type": "code",
   "execution_count": null,
   "id": "ff2f7ada",
   "metadata": {},
   "outputs": [],
   "source": [
    "a=50\n",
    "type(a)\n"
   ]
  },
  {
   "cell_type": "code",
   "execution_count": null,
   "id": "97513176",
   "metadata": {},
   "outputs": [],
   "source": [
    "a=float(a)\n",
    "type(a)"
   ]
  },
  {
   "cell_type": "code",
   "execution_count": null,
   "id": "6959a182",
   "metadata": {},
   "outputs": [],
   "source": [
    "a=str(a)\n",
    "type(a)"
   ]
  },
  {
   "cell_type": "code",
   "execution_count": null,
   "id": "a5e86b20",
   "metadata": {},
   "outputs": [],
   "source": [
    "#List\n",
    "a = [1,2,3,4,5,6,7,\"Hello\"]\n",
    "print(a)"
   ]
  },
  {
   "cell_type": "code",
   "execution_count": null,
   "id": "f418846a",
   "metadata": {},
   "outputs": [],
   "source": [
    "print(a[5])"
   ]
  },
  {
   "cell_type": "code",
   "execution_count": null,
   "id": "382abb13",
   "metadata": {},
   "outputs": [],
   "source": [
    "type(a)"
   ]
  },
  {
   "cell_type": "code",
   "execution_count": null,
   "id": "0abe8817",
   "metadata": {},
   "outputs": [],
   "source": [
    "print(a[-1])"
   ]
  },
  {
   "cell_type": "code",
   "execution_count": null,
   "id": "0b08075e",
   "metadata": {},
   "outputs": [],
   "source": [
    "print(a[1:])"
   ]
  },
  {
   "cell_type": "code",
   "execution_count": null,
   "id": "3e39c728",
   "metadata": {},
   "outputs": [],
   "source": [
    "print(a[1:4])"
   ]
  },
  {
   "cell_type": "code",
   "execution_count": null,
   "id": "ee66a888",
   "metadata": {},
   "outputs": [],
   "source": [
    "print(a[:4])"
   ]
  },
  {
   "cell_type": "code",
   "execution_count": null,
   "id": "fd5c0ade",
   "metadata": {},
   "outputs": [],
   "source": [
    "print(a[0:4])"
   ]
  },
  {
   "cell_type": "code",
   "execution_count": null,
   "id": "65eef176",
   "metadata": {},
   "outputs": [],
   "source": [
    "print(a[0:8:2])"
   ]
  },
  {
   "cell_type": "code",
   "execution_count": null,
   "id": "c8bacb3e",
   "metadata": {},
   "outputs": [],
   "source": [
    "b=[]\n",
    "for i in range(5):\n",
    "     b.append(int(input(\"Enter value : \")))\n",
    "print(b)\n"
   ]
  },
  {
   "cell_type": "code",
   "execution_count": 1,
   "id": "d597ac33",
   "metadata": {},
   "outputs": [
    {
     "name": "stdout",
     "output_type": "stream",
     "text": [
      "\n",
      "*\n",
      "**\n",
      "***\n",
      "****\n",
      "*****\n"
     ]
    }
   ],
   "source": [
    "b=[]\n",
    "for i in range(6):\n",
    "     print(\"*\"*i)"
   ]
  },
  {
   "cell_type": "code",
   "execution_count": 8,
   "id": "5fcc1052",
   "metadata": {},
   "outputs": [
    {
     "name": "stdout",
     "output_type": "stream",
     "text": [
      "Enter value : 3\n",
      "Enter value : 4\n",
      "Enter value : 2\n",
      "Enter value : 5\n",
      "Enter value : 5\n"
     ]
    }
   ],
   "source": [
    "b.append(int(input(\"Enter value : \")))\n",
    "b.append(int(input(\"Enter value : \")))\n",
    "b.append(int(input(\"Enter value : \")))\n",
    "b.append(int(input(\"Enter value : \")))\n",
    "b.append(int(input(\"Enter value : \")))"
   ]
  },
  {
   "cell_type": "code",
   "execution_count": 9,
   "id": "a62e62be",
   "metadata": {},
   "outputs": [
    {
     "data": {
      "text/plain": [
       "[3, 4, 2, 5, 5]"
      ]
     },
     "execution_count": 9,
     "metadata": {},
     "output_type": "execute_result"
    }
   ],
   "source": [
    "b"
   ]
  },
  {
   "cell_type": "code",
   "execution_count": 12,
   "id": "fc75d021",
   "metadata": {},
   "outputs": [],
   "source": [
    "b.remove(3)"
   ]
  },
  {
   "cell_type": "code",
   "execution_count": 18,
   "id": "9b2ffe1b",
   "metadata": {},
   "outputs": [
    {
     "data": {
      "text/plain": [
       "[4, 5, 5]"
      ]
     },
     "execution_count": 18,
     "metadata": {},
     "output_type": "execute_result"
    }
   ],
   "source": [
    "b"
   ]
  },
  {
   "cell_type": "code",
   "execution_count": 19,
   "id": "a644cc20",
   "metadata": {},
   "outputs": [],
   "source": [
    "b.insert(2,3)"
   ]
  },
  {
   "cell_type": "code",
   "execution_count": 23,
   "id": "ca32010a",
   "metadata": {},
   "outputs": [
    {
     "data": {
      "text/plain": [
       "[4, 5, 4, 3, 5]"
      ]
     },
     "execution_count": 23,
     "metadata": {},
     "output_type": "execute_result"
    }
   ],
   "source": [
    "b"
   ]
  },
  {
   "cell_type": "code",
   "execution_count": 24,
   "id": "02914d72",
   "metadata": {},
   "outputs": [
    {
     "data": {
      "text/plain": [
       "[4, 5, 4, 4, 3, 5]"
      ]
     },
     "execution_count": 24,
     "metadata": {},
     "output_type": "execute_result"
    }
   ],
   "source": [
    "b.insert(2,4)\n",
    "b"
   ]
  },
  {
   "cell_type": "code",
   "execution_count": 17,
   "id": "3ec6fa4e",
   "metadata": {},
   "outputs": [
    {
     "name": "stdout",
     "output_type": "stream",
     "text": [
      "Enter no3\n",
      "Enter no4\n",
      "Enter no5\n",
      "Enter no6\n",
      "Enter no4\n",
      "Enter no2\n"
     ]
    }
   ],
   "source": [
    "for i in range(10):\n",
    "    int(input(\"Enter no\"))\n",
    "    if(i==5):\n",
    "        break\n",
    "    "
   ]
  },
  {
   "cell_type": "code",
   "execution_count": 25,
   "id": "8393b726",
   "metadata": {},
   "outputs": [
    {
     "name": "stdout",
     "output_type": "stream",
     "text": [
      "0\n",
      "1\n",
      "2\n",
      "3\n",
      "4\n",
      "5\n",
      "6\n",
      "7\n",
      "8\n",
      "9\n"
     ]
    }
   ],
   "source": [
    "a=[1,2,3,4,5,6,7,8,9,0]\n",
    "for i in range(len(a)):\n",
    "    print(a[i-1])"
   ]
  },
  {
   "cell_type": "code",
   "execution_count": 31,
   "id": "a0e7de8f",
   "metadata": {},
   "outputs": [
    {
     "name": "stdout",
     "output_type": "stream",
     "text": [
      "Enter Word : ddad\n",
      "Not Palindrome\n"
     ]
    }
   ],
   "source": [
    "a=input(\"Enter Word : \")\n",
    "if(a==a[::-1]):\n",
    "    print(\"Its palindrome\")\n",
    "else:\n",
    "    print(\"Not Palindrome\")"
   ]
  },
  {
   "cell_type": "code",
   "execution_count": null,
   "id": "07e1bdb8",
   "metadata": {},
   "outputs": [],
   "source": []
  }
 ],
 "metadata": {
  "kernelspec": {
   "display_name": "Python 3 (ipykernel)",
   "language": "python",
   "name": "python3"
  },
  "language_info": {
   "codemirror_mode": {
    "name": "ipython",
    "version": 3
   },
   "file_extension": ".py",
   "mimetype": "text/x-python",
   "name": "python",
   "nbconvert_exporter": "python",
   "pygments_lexer": "ipython3",
   "version": "3.9.7"
  }
 },
 "nbformat": 4,
 "nbformat_minor": 5
}
